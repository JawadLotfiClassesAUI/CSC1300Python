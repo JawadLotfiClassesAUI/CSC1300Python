{
 "cells": [
  {
   "cell_type": "code",
   "execution_count": 2,
   "metadata": {},
   "outputs": [
    {
     "name": "stdout",
     "output_type": "stream",
     "text": [
      "The area is 20 square meters\n",
      "The perimeter is 18 meters\n"
     ]
    }
   ],
   "source": [
    "# Here we are entering the length and width of the room\n",
    "length = eval(input(\"Enter the length:\"))\n",
    "width = eval(input(\"Enter the width:\"))\n",
    "\n",
    "# Here we compute the result which is the surface area\n",
    "surface = length * width\n",
    "perimeter = (length + width) * 2\n",
    "\n",
    "# Finally, we display the result in a helpful sentence\n",
    "print(f\"The area is {surface} square meters\")\n",
    "print(f\"The perimeter is {perimeter} meters\")"
   ]
  }
 ],
 "metadata": {
  "kernelspec": {
   "display_name": "Python 3",
   "language": "python",
   "name": "python3"
  },
  "language_info": {
   "codemirror_mode": {
    "name": "ipython",
    "version": 3
   },
   "file_extension": ".py",
   "mimetype": "text/x-python",
   "name": "python",
   "nbconvert_exporter": "python",
   "pygments_lexer": "ipython3",
   "version": "3.11.9"
  }
 },
 "nbformat": 4,
 "nbformat_minor": 2
}
